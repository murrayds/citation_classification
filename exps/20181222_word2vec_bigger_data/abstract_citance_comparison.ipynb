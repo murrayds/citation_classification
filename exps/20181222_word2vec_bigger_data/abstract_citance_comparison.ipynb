{
 "cells": [
  {
   "cell_type": "code",
   "execution_count": 2,
   "metadata": {
    "collapsed": true
   },
   "outputs": [],
   "source": [
    "from gensim.models import Word2Vec\n",
    "abs_model = Word2Vec.load(\"model_abstract_sample\")\n",
    "citance_model = Word2Vec.load(\"model_citance_sample\")"
   ]
  },
  {
   "cell_type": "code",
   "execution_count": 5,
   "metadata": {},
   "outputs": [
    {
     "name": "stderr",
     "output_type": "stream",
     "text": [
      "/Users/dakotamurray/anaconda3/lib/python3.6/site-packages/gensim/matutils.py:737: FutureWarning: Conversion of the second argument of issubdtype from `int` to `np.signedinteger` is deprecated. In future, it will be treated as `np.int64 == np.dtype(int).type`.\n",
      "  if np.issubdtype(vec.dtype, np.int):\n"
     ]
    }
   ],
   "source": [
    "seed = [\"inconclusive\", \"conflicting\", \"contradictory\"]\n",
    "\n",
    "expanded = []\n",
    "for word in seed:\n",
    "    expanded.append(word)\n",
    "    \n",
    "#expanded.append(seed)\n",
    "for seed_word in seed:\n",
    "    tup = abs_model.wv.most_similar(seed_word, topn = 50)\n",
    "    for item in tup:\n",
    "        w = item[0]\n",
    "        if w not in expanded:\n",
    "            expanded.append(w)"
   ]
  },
  {
   "cell_type": "code",
   "execution_count": 6,
   "metadata": {},
   "outputs": [
    {
     "data": {
      "text/plain": [
       "['inconclusive',\n",
       " 'conflicting',\n",
       " 'contradictory',\n",
       " 'equivocal',\n",
       " 'controversial',\n",
       " 'inconsistent',\n",
       " 'discordant',\n",
       " 'questioned',\n",
       " 'discrepant',\n",
       " 'conclusive',\n",
       " 'less_clear',\n",
       " 'documented',\n",
       " 'too_small',\n",
       " 'questionable',\n",
       " 'well_documented',\n",
       " 'published',\n",
       " 'unavailable',\n",
       " 'incompletely_understood',\n",
       " 'missed',\n",
       " 'lacking',\n",
       " 'overlooked',\n",
       " 'debated',\n",
       " 'omitted',\n",
       " 'still_needed',\n",
       " 'reported',\n",
       " 'published_studies',\n",
       " 'concordant',\n",
       " 'argued',\n",
       " 'unsuccessful',\n",
       " 'scant',\n",
       " 'deemed',\n",
       " 'excluded',\n",
       " 'still_controversial',\n",
       " 'not_uncommon',\n",
       " 'denied',\n",
       " 'acknowledged',\n",
       " 'advocated',\n",
       " 'suspected',\n",
       " 'reviewed',\n",
       " 'very_rare',\n",
       " 'uncommon',\n",
       " 'very_limited',\n",
       " 'unreliable',\n",
       " 'warranted',\n",
       " 'substantiated',\n",
       " 'false_negative',\n",
       " 'summarized',\n",
       " 'scarce',\n",
       " 'false_positive',\n",
       " 'generalizable',\n",
       " 'still_limited',\n",
       " 'disparate',\n",
       " 'ambiguous',\n",
       " 'encouraging',\n",
       " 'substantive',\n",
       " 'surprising',\n",
       " 'divergent',\n",
       " 'meaningful',\n",
       " 'unexpected',\n",
       " 'genuine',\n",
       " 'convincing',\n",
       " 'tangible',\n",
       " 'some_interesting',\n",
       " 'methodological',\n",
       " 'ethical',\n",
       " 'relatively_few',\n",
       " 'diverging',\n",
       " 'contested',\n",
       " 'intriguing',\n",
       " 'very_little',\n",
       " 'biased',\n",
       " 'paucity',\n",
       " 'very_few',\n",
       " 'social_science',\n",
       " 'contextual',\n",
       " 'recent_research',\n",
       " 'compelling',\n",
       " 'philosophical',\n",
       " 'situational',\n",
       " 'concerning',\n",
       " 'these',\n",
       " 'moral',\n",
       " 'previous_research',\n",
       " 'vague',\n",
       " 'optimistic',\n",
       " 'linguistic',\n",
       " 'credible',\n",
       " 'controversy',\n",
       " 'growing_body',\n",
       " 'reality',\n",
       " 'erroneous',\n",
       " 'unrealistic',\n",
       " 'interpretations',\n",
       " 'inaccurate',\n",
       " 'misleading',\n",
       " 'interpreting',\n",
       " 'contrasted',\n",
       " 'inconsistencies',\n",
       " 'not_entirely',\n",
       " 'explanations',\n",
       " 'pertinent',\n",
       " 'imprecise']"
      ]
     },
     "execution_count": 6,
     "metadata": {},
     "output_type": "execute_result"
    }
   ],
   "source": [
    "expanded"
   ]
  },
  {
   "cell_type": "code",
   "execution_count": 23,
   "metadata": {},
   "outputs": [
    {
     "name": "stderr",
     "output_type": "stream",
     "text": [
      "/Users/dakotamurray/anaconda3/lib/python3.6/site-packages/gensim/matutils.py:737: FutureWarning: Conversion of the second argument of issubdtype from `int` to `np.signedinteger` is deprecated. In future, it will be treated as `np.int64 == np.dtype(int).type`.\n",
      "  if np.issubdtype(vec.dtype, np.int):\n"
     ]
    }
   ],
   "source": [
    "import matplotlib.pyplot as plt\n",
    "import numpy as np\n",
    "import networkx as nx\n",
    "\n",
    "adj_matrix = []\n",
    "\n",
    "for term1 in expanded:\n",
    "    row = []\n",
    "    for term2 in expanded:\n",
    "        row.append(abs_model.wv.similarity(term1, term2))\n",
    "    adj_matrix.append(row)\n",
    "    \n",
    "adj_matrix = np.array(adj_matrix)"
   ]
  },
  {
   "cell_type": "code",
   "execution_count": 28,
   "metadata": {},
   "outputs": [],
   "source": [
    "g = nx.from_numpy_matrix(adj_matrix)\n",
    "\n",
    "nx.write_gml(g, 'word_edges.gml')"
   ]
  },
  {
   "cell_type": "code",
   "execution_count": 17,
   "metadata": {},
   "outputs": [
    {
     "ename": "TypeError",
     "evalue": "'>' not supported between instances of 'list' and 'int'",
     "output_type": "error",
     "traceback": [
      "\u001b[0;31m---------------------------------------------------------------------------\u001b[0m",
      "\u001b[0;31mTypeError\u001b[0m                                 Traceback (most recent call last)",
      "\u001b[0;32m<ipython-input-17-dbe7b7afa85f>\u001b[0m in \u001b[0;36m<module>\u001b[0;34m()\u001b[0m\n\u001b[1;32m      3\u001b[0m \u001b[0;32mimport\u001b[0m \u001b[0mnetworkx\u001b[0m \u001b[0;32mas\u001b[0m \u001b[0mnx\u001b[0m\u001b[0;34m\u001b[0m\u001b[0m\n\u001b[1;32m      4\u001b[0m \u001b[0;34m\u001b[0m\u001b[0m\n\u001b[0;32m----> 5\u001b[0;31m \u001b[0mrows\u001b[0m\u001b[0;34m,\u001b[0m \u001b[0mcols\u001b[0m \u001b[0;34m=\u001b[0m \u001b[0mnp\u001b[0m\u001b[0;34m.\u001b[0m\u001b[0mwhere\u001b[0m\u001b[0;34m(\u001b[0m\u001b[0madj_matrix\u001b[0m \u001b[0;34m>\u001b[0m \u001b[0;36m0\u001b[0m\u001b[0;34m)\u001b[0m\u001b[0;34m\u001b[0m\u001b[0m\n\u001b[0m\u001b[1;32m      6\u001b[0m \u001b[0medges\u001b[0m \u001b[0;34m=\u001b[0m \u001b[0mzip\u001b[0m\u001b[0;34m(\u001b[0m\u001b[0mrows\u001b[0m\u001b[0;34m.\u001b[0m\u001b[0mtolist\u001b[0m\u001b[0;34m(\u001b[0m\u001b[0;34m)\u001b[0m\u001b[0;34m,\u001b[0m \u001b[0mcols\u001b[0m\u001b[0;34m.\u001b[0m\u001b[0mtolist\u001b[0m\u001b[0;34m(\u001b[0m\u001b[0;34m)\u001b[0m\u001b[0;34m)\u001b[0m\u001b[0;34m\u001b[0m\u001b[0m\n\u001b[1;32m      7\u001b[0m \u001b[0mgr\u001b[0m \u001b[0;34m=\u001b[0m \u001b[0mnx\u001b[0m\u001b[0;34m.\u001b[0m\u001b[0mGraph\u001b[0m\u001b[0;34m(\u001b[0m\u001b[0;34m)\u001b[0m\u001b[0;34m\u001b[0m\u001b[0m\n",
      "\u001b[0;31mTypeError\u001b[0m: '>' not supported between instances of 'list' and 'int'"
     ]
    }
   ],
   "source": [
    "\n",
    "\n",
    "rows, cols = np.where(adj_matrix > 0)\n",
    "edges = zip(rows.tolist(), cols.tolist())\n",
    "gr = nx.Graph()\n",
    "gr.add_edges_from(edges)\n",
    "nx.draw(gr, node_size=500)\n",
    "plt.show()\n",
    "\n",
    "#show_graph_with_labels(adj_matrix)"
   ]
  },
  {
   "cell_type": "code",
   "execution_count": 16,
   "metadata": {},
   "outputs": [
    {
     "data": {
      "text/plain": [
       "(array([], dtype=int64),)"
      ]
     },
     "execution_count": 16,
     "metadata": {},
     "output_type": "execute_result"
    }
   ],
   "source": [
    "np.where(adj_matrix == 1)"
   ]
  },
  {
   "cell_type": "code",
   "execution_count": 18,
   "metadata": {},
   "outputs": [
    {
     "ename": "TypeError",
     "evalue": "'>' not supported between instances of 'list' and 'int'",
     "output_type": "error",
     "traceback": [
      "\u001b[0;31m---------------------------------------------------------------------------\u001b[0m",
      "\u001b[0;31mTypeError\u001b[0m                                 Traceback (most recent call last)",
      "\u001b[0;32m<ipython-input-18-ac3ba04e9cfb>\u001b[0m in \u001b[0;36m<module>\u001b[0;34m()\u001b[0m\n\u001b[0;32m----> 1\u001b[0;31m \u001b[0mnp\u001b[0m\u001b[0;34m.\u001b[0m\u001b[0mwhere\u001b[0m\u001b[0;34m(\u001b[0m\u001b[0madj_matrix\u001b[0m \u001b[0;34m>\u001b[0m \u001b[0;36m0\u001b[0m\u001b[0;34m)\u001b[0m\u001b[0;34m\u001b[0m\u001b[0m\n\u001b[0m",
      "\u001b[0;31mTypeError\u001b[0m: '>' not supported between instances of 'list' and 'int'"
     ]
    }
   ],
   "source": [
    "np.where(adj_matrix > 0)"
   ]
  },
  {
   "cell_type": "code",
   "execution_count": null,
   "metadata": {
    "collapsed": true
   },
   "outputs": [],
   "source": []
  }
 ],
 "metadata": {
  "kernelspec": {
   "display_name": "Python 3",
   "language": "python",
   "name": "python3"
  },
  "language_info": {
   "codemirror_mode": {
    "name": "ipython",
    "version": 3
   },
   "file_extension": ".py",
   "mimetype": "text/x-python",
   "name": "python",
   "nbconvert_exporter": "python",
   "pygments_lexer": "ipython3",
   "version": "3.6.4"
  }
 },
 "nbformat": 4,
 "nbformat_minor": 2
}
